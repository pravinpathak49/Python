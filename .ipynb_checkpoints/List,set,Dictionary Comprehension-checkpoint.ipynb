{
 "cells": [
  {
   "cell_type": "markdown",
   "metadata": {},
   "source": [
    "List, Set, and Dict Comprehensions\n",
    "List comprehensions are one of the most-loved Python language features. \n",
    "They allow you to concisely form a new list by filtering the elements of a collection, transforming the elements \n",
    "passing the filter in one concise expression.\n",
    "\n",
    "[expr for val in collection if condition]\n"
   ]
  },
  {
   "cell_type": "code",
   "execution_count": 6,
   "metadata": {},
   "outputs": [],
   "source": [
    "l1 = list(range(0,51))"
   ]
  },
  {
   "cell_type": "code",
   "execution_count": 13,
   "metadata": {},
   "outputs": [],
   "source": [
    "evenl1 = [i for i in l1 if i%2 == 0]"
   ]
  },
  {
   "cell_type": "markdown",
   "metadata": {},
   "source": [
    "The above code is equal to \n",
    "\n",
    "evenl1 = []\n",
    "    for i in l1:\n",
    "        if i%2 == 0: \n",
    "            result.append(i)\n"
   ]
  },
  {
   "cell_type": "code",
   "execution_count": 15,
   "metadata": {},
   "outputs": [],
   "source": [
    "#get the square of the even numbers\n",
    "l1evensquares = [i*i for i in l1 if i%2 == 0]"
   ]
  },
  {
   "cell_type": "code",
   "execution_count": 20,
   "metadata": {},
   "outputs": [],
   "source": [
    "#set Comprehension\n",
    "set1= set(range(1,30))"
   ]
  },
  {
   "cell_type": "code",
   "execution_count": 21,
   "metadata": {},
   "outputs": [],
   "source": [
    "s1even = {i for i in set1 if i %2 == 0}"
   ]
  },
  {
   "cell_type": "code",
   "execution_count": 23,
   "metadata": {},
   "outputs": [],
   "source": [
    "s1 = {'ram','hari','govinda','shayam','shiva','radhe','krishna', 'sita'}\n",
    "#find the unique lengths of the elements in set"
   ]
  },
  {
   "cell_type": "code",
   "execution_count": 25,
   "metadata": {},
   "outputs": [],
   "source": [
    "s1lengths = { len(s) for s in s1}"
   ]
  },
  {
   "cell_type": "markdown",
   "metadata": {},
   "source": []
  }
 ],
 "metadata": {
  "kernelspec": {
   "display_name": "Python 3",
   "language": "python",
   "name": "python3"
  },
  "language_info": {
   "codemirror_mode": {
    "name": "ipython",
    "version": 3
   },
   "file_extension": ".py",
   "mimetype": "text/x-python",
   "name": "python",
   "nbconvert_exporter": "python",
   "pygments_lexer": "ipython3",
   "version": "3.6.4"
  }
 },
 "nbformat": 4,
 "nbformat_minor": 2
}
